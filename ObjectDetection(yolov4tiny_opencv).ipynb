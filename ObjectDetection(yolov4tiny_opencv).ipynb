{
 "cells": [
  {
   "cell_type": "code",
   "execution_count": 41,
   "id": "d78274e9",
   "metadata": {},
   "outputs": [],
   "source": [
    "import cv2"
   ]
  },
  {
   "cell_type": "code",
   "execution_count": 42,
   "id": "d9759563",
   "metadata": {},
   "outputs": [],
   "source": [
    "camera=cv2.VideoCapture(0)"
   ]
  },
  {
   "cell_type": "code",
   "execution_count": 43,
   "id": "ab84d3b4",
   "metadata": {},
   "outputs": [],
   "source": [
    "#OpenCV'nin DNN özelliğini çagırıyoruz\n",
    "net=cv2.dnn.readNet(\"yolov4-tiny.weights\",\"yolov4-tiny.cfg\")\n",
    "model=cv2.dnn_DetectionModel(net)\n",
    "model.setInputParams(size=(320,320),scale=1/255)"
   ]
  },
  {
   "cell_type": "code",
   "execution_count": 44,
   "id": "3f80e4aa",
   "metadata": {},
   "outputs": [],
   "source": [
    "# Sınıf listelerini yükler\n",
    "classes = []\n",
    "with open(\"classes.txt\", \"r\") as file_object:\n",
    "    for class_name in file_object.readlines():\n",
    "        class_name = class_name.strip()  # satır arası boşluklar için\n",
    "        classes.append(class_name)\n"
   ]
  },
  {
   "cell_type": "code",
   "execution_count": 45,
   "id": "a8f707f5",
   "metadata": {},
   "outputs": [],
   "source": [
    "while True:\n",
    "    #ekranda ki görüntüyü ters çevirme ve camera da okunan değeri frame atama\n",
    "    ret,frame=camera.read()\n",
    "    frame = cv2.flip(frame, 1)\n",
    "    \n",
    "    #Nesne tanıma \n",
    "    (class_ids, scores, bboxes) = model.detect(frame, confThreshold=0.3, nmsThreshold=.4)\n",
    "    for class_id, score, bbox in zip(class_ids, scores, bboxes):\n",
    "        (x, y, w, h) = bbox\n",
    "        cv2.rectangle(frame, (x, y), (x + w, y + h), (200,0,200), 3)\n",
    "\n",
    "        class_name = classes[class_id]\n",
    "\n",
    "        cv2.putText(frame, class_name, (x, y - 10), cv2.FONT_HERSHEY_PLAIN, 3, (200,0,200), 2)\n",
    "\n",
    "#Ekranda gösterilecek pencerenin ismi ve ekranı kapatmak için bir tuş ataması\n",
    "    cv2.imshow(\"Frame\",frame)\n",
    "    if cv2.waitKey(50) & 0xFF == ord('x'):\n",
    "        break\n",
    "\n",
    "            \n",
    "camera.release()\n",
    "cv2.destroyAllWindows()"
   ]
  },
  {
   "cell_type": "code",
   "execution_count": null,
   "id": "5ef71462",
   "metadata": {},
   "outputs": [],
   "source": []
  }
 ],
 "metadata": {
  "kernelspec": {
   "display_name": "Python 3 (ipykernel)",
   "language": "python",
   "name": "python3"
  },
  "language_info": {
   "codemirror_mode": {
    "name": "ipython",
    "version": 3
   },
   "file_extension": ".py",
   "mimetype": "text/x-python",
   "name": "python",
   "nbconvert_exporter": "python",
   "pygments_lexer": "ipython3",
   "version": "3.9.12"
  }
 },
 "nbformat": 4,
 "nbformat_minor": 5
}
